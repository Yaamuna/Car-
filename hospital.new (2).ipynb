{
 "cells": [
  {
   "cell_type": "code",
   "execution_count": 4,
   "id": "68bcd43f-2842-4fc7-945f-5f5874d0b8b9",
   "metadata": {},
   "outputs": [],
   "source": [
    "import pandas as pd\n",
    "import numpy as np\n",
    "import pyodbc"
   ]
  },
  {
   "cell_type": "code",
   "execution_count": 5,
   "id": "c692f8bc-461f-4e39-ad99-225e5f88d10f",
   "metadata": {},
   "outputs": [],
   "source": [
    "df = pd.read_csv('healthcare_dataset.csv')"
   ]
  },
  {
   "cell_type": "code",
   "execution_count": 6,
   "id": "af680a5e-8915-4caf-90af-62ecc5fb4965",
   "metadata": {},
   "outputs": [],
   "source": [
    "#pyndoc - open source database connect\n",
    "#APL Application Programming Imorfast"
   ]
  },
  {
   "cell_type": "code",
   "execution_count": 8,
   "id": "4fdc0ad7-e171-449d-82b3-ce3562ba2413",
   "metadata": {},
   "outputs": [
    {
     "data": {
      "text/plain": [
       "Index(['Patient_ID', 'Age', 'Gender', 'City', 'Department', 'Visit_Date',\n",
       "       'Diagnosis', 'Treatment_Cost', 'Follow_Up', 'Satisfaction_Score'],\n",
       "      dtype='object')"
      ]
     },
     "execution_count": 8,
     "metadata": {},
     "output_type": "execute_result"
    }
   ],
   "source": [
    "df.columns"
   ]
  },
  {
   "cell_type": "code",
   "execution_count": 11,
   "id": "ba001c8e-2928-43dc-88c2-cb6799ece928",
   "metadata": {},
   "outputs": [
    {
     "data": {
      "text/plain": [
       "15000"
      ]
     },
     "execution_count": 11,
     "metadata": {},
     "output_type": "execute_result"
    }
   ],
   "source": [
    "# Unique Count\n",
    "df['Patient_ID'].nunique()"
   ]
  },
  {
   "cell_type": "code",
   "execution_count": 12,
   "id": "5f542dfe-4202-4bb7-8835-f9ed470abccf",
   "metadata": {},
   "outputs": [
    {
     "name": "stdout",
     "output_type": "stream",
     "text": [
      "Average: 12025455000\n"
     ]
    }
   ],
   "source": [
    "average = sum(df['Age']) * len(df['Age'])\n",
    "print(\"Average:\", average)"
   ]
  },
  {
   "cell_type": "code",
   "execution_count": 13,
   "id": "5ee8a32d-a51a-4faf-b9dd-8352768e9cd0",
   "metadata": {},
   "outputs": [
    {
     "name": "stdout",
     "output_type": "stream",
     "text": [
      "Gender\n",
      "Female    7265\n",
      "Male      7103\n",
      "Other      632\n",
      "Name: count, dtype: int64\n"
     ]
    }
   ],
   "source": [
    "gender_counts = df['Gender'].value_counts()\n",
    "print(gender_counts)"
   ]
  },
  {
   "cell_type": "code",
   "execution_count": 14,
   "id": "86d717ce-44ba-440b-8d83-523a23851d50",
   "metadata": {},
   "outputs": [
    {
     "name": "stdout",
     "output_type": "stream",
     "text": [
      "         Department  Treatment_Cost\n",
      "0        Cardiology    10398.830209\n",
      "1  General Medicine    10195.037010\n",
      "2         Neurology    10284.387270\n",
      "3       Orthopedics    10149.271251\n",
      "4        Pediatrics    10254.057204\n"
     ]
    }
   ],
   "source": [
    "avg_cost_by_dept = df.groupby('Department')['Treatment_Cost'].mean().reset_index()\n",
    "print(avg_cost_by_dept)"
   ]
  },
  {
   "cell_type": "code",
   "execution_count": 16,
   "id": "e2f579aa-eb55-44f5-9468-d5d453fcb750",
   "metadata": {},
   "outputs": [
    {
     "name": "stdout",
     "output_type": "stream",
     "text": [
      "              min  max\n",
      "Diagnosis             \n",
      "Diabetes        1   10\n",
      "Flu             1   10\n",
      "Fracture        1   10\n",
      "Hypertension    1   10\n",
      "Migraine        1   10\n"
     ]
    }
   ],
   "source": [
    "min_max = df.groupby('Diagnosis')['Satisfaction_Score'].agg(['min', 'max'])\n",
    "print(min_max)"
   ]
  },
  {
   "cell_type": "code",
   "execution_count": 17,
   "id": "deeb246b-c45e-4dc5-b98e-7e56f143a72f",
   "metadata": {},
   "outputs": [
    {
     "data": {
      "text/html": [
       "<div>\n",
       "<style scoped>\n",
       "    .dataframe tbody tr th:only-of-type {\n",
       "        vertical-align: middle;\n",
       "    }\n",
       "\n",
       "    .dataframe tbody tr th {\n",
       "        vertical-align: top;\n",
       "    }\n",
       "\n",
       "    .dataframe thead th {\n",
       "        text-align: right;\n",
       "    }\n",
       "</style>\n",
       "<table border=\"1\" class=\"dataframe\">\n",
       "  <thead>\n",
       "    <tr style=\"text-align: right;\">\n",
       "      <th></th>\n",
       "      <th>Patient_ID</th>\n",
       "      <th>Age</th>\n",
       "      <th>Gender</th>\n",
       "      <th>City</th>\n",
       "      <th>Department</th>\n",
       "      <th>Visit_Date</th>\n",
       "      <th>Diagnosis</th>\n",
       "      <th>Treatment_Cost</th>\n",
       "      <th>Follow_Up</th>\n",
       "      <th>Satisfaction_Score</th>\n",
       "    </tr>\n",
       "  </thead>\n",
       "  <tbody>\n",
       "    <tr>\n",
       "      <th>0</th>\n",
       "      <td>1</td>\n",
       "      <td>69</td>\n",
       "      <td>Female</td>\n",
       "      <td>Phoenix</td>\n",
       "      <td>General Medicine</td>\n",
       "      <td>2023-03-04</td>\n",
       "      <td>Flu</td>\n",
       "      <td>13093.75</td>\n",
       "      <td>No</td>\n",
       "      <td>10</td>\n",
       "    </tr>\n",
       "    <tr>\n",
       "      <th>1</th>\n",
       "      <td>2</td>\n",
       "      <td>32</td>\n",
       "      <td>Male</td>\n",
       "      <td>Phoenix</td>\n",
       "      <td>Pediatrics</td>\n",
       "      <td>2021-03-20</td>\n",
       "      <td>Diabetes</td>\n",
       "      <td>11131.79</td>\n",
       "      <td>No</td>\n",
       "      <td>5</td>\n",
       "    </tr>\n",
       "    <tr>\n",
       "      <th>2</th>\n",
       "      <td>3</td>\n",
       "      <td>89</td>\n",
       "      <td>Female</td>\n",
       "      <td>Houston</td>\n",
       "      <td>General Medicine</td>\n",
       "      <td>2023-07-26</td>\n",
       "      <td>Migraine</td>\n",
       "      <td>1822.61</td>\n",
       "      <td>No</td>\n",
       "      <td>9</td>\n",
       "    </tr>\n",
       "    <tr>\n",
       "      <th>3</th>\n",
       "      <td>4</td>\n",
       "      <td>78</td>\n",
       "      <td>Female</td>\n",
       "      <td>Houston</td>\n",
       "      <td>Cardiology</td>\n",
       "      <td>2022-12-08</td>\n",
       "      <td>Migraine</td>\n",
       "      <td>17714.34</td>\n",
       "      <td>No</td>\n",
       "      <td>5</td>\n",
       "    </tr>\n",
       "    <tr>\n",
       "      <th>4</th>\n",
       "      <td>5</td>\n",
       "      <td>38</td>\n",
       "      <td>Female</td>\n",
       "      <td>Los Angeles</td>\n",
       "      <td>Pediatrics</td>\n",
       "      <td>2021-10-16</td>\n",
       "      <td>Hypertension</td>\n",
       "      <td>10400.34</td>\n",
       "      <td>Yes</td>\n",
       "      <td>3</td>\n",
       "    </tr>\n",
       "    <tr>\n",
       "      <th>...</th>\n",
       "      <td>...</td>\n",
       "      <td>...</td>\n",
       "      <td>...</td>\n",
       "      <td>...</td>\n",
       "      <td>...</td>\n",
       "      <td>...</td>\n",
       "      <td>...</td>\n",
       "      <td>...</td>\n",
       "      <td>...</td>\n",
       "      <td>...</td>\n",
       "    </tr>\n",
       "    <tr>\n",
       "      <th>14995</th>\n",
       "      <td>14996</td>\n",
       "      <td>71</td>\n",
       "      <td>Male</td>\n",
       "      <td>Houston</td>\n",
       "      <td>General Medicine</td>\n",
       "      <td>2022-11-19</td>\n",
       "      <td>Fracture</td>\n",
       "      <td>9244.55</td>\n",
       "      <td>Yes</td>\n",
       "      <td>8</td>\n",
       "    </tr>\n",
       "    <tr>\n",
       "      <th>14996</th>\n",
       "      <td>14997</td>\n",
       "      <td>32</td>\n",
       "      <td>Female</td>\n",
       "      <td>Chicago</td>\n",
       "      <td>Orthopedics</td>\n",
       "      <td>2022-02-22</td>\n",
       "      <td>Diabetes</td>\n",
       "      <td>16254.03</td>\n",
       "      <td>No</td>\n",
       "      <td>3</td>\n",
       "    </tr>\n",
       "    <tr>\n",
       "      <th>14997</th>\n",
       "      <td>14998</td>\n",
       "      <td>67</td>\n",
       "      <td>Male</td>\n",
       "      <td>New York</td>\n",
       "      <td>General Medicine</td>\n",
       "      <td>2021-10-23</td>\n",
       "      <td>Migraine</td>\n",
       "      <td>5294.03</td>\n",
       "      <td>No</td>\n",
       "      <td>7</td>\n",
       "    </tr>\n",
       "    <tr>\n",
       "      <th>14998</th>\n",
       "      <td>14999</td>\n",
       "      <td>73</td>\n",
       "      <td>Male</td>\n",
       "      <td>New York</td>\n",
       "      <td>Cardiology</td>\n",
       "      <td>2022-06-01</td>\n",
       "      <td>Diabetes</td>\n",
       "      <td>16262.64</td>\n",
       "      <td>No</td>\n",
       "      <td>10</td>\n",
       "    </tr>\n",
       "    <tr>\n",
       "      <th>14999</th>\n",
       "      <td>15000</td>\n",
       "      <td>26</td>\n",
       "      <td>Male</td>\n",
       "      <td>Chicago</td>\n",
       "      <td>Orthopedics</td>\n",
       "      <td>2022-06-06</td>\n",
       "      <td>Migraine</td>\n",
       "      <td>5087.46</td>\n",
       "      <td>No</td>\n",
       "      <td>10</td>\n",
       "    </tr>\n",
       "  </tbody>\n",
       "</table>\n",
       "<p>15000 rows × 10 columns</p>\n",
       "</div>"
      ],
      "text/plain": [
       "       Patient_ID  Age  Gender         City        Department  Visit_Date  \\\n",
       "0               1   69  Female      Phoenix  General Medicine  2023-03-04   \n",
       "1               2   32    Male      Phoenix        Pediatrics  2021-03-20   \n",
       "2               3   89  Female      Houston  General Medicine  2023-07-26   \n",
       "3               4   78  Female      Houston        Cardiology  2022-12-08   \n",
       "4               5   38  Female  Los Angeles        Pediatrics  2021-10-16   \n",
       "...           ...  ...     ...          ...               ...         ...   \n",
       "14995       14996   71    Male      Houston  General Medicine  2022-11-19   \n",
       "14996       14997   32  Female      Chicago       Orthopedics  2022-02-22   \n",
       "14997       14998   67    Male     New York  General Medicine  2021-10-23   \n",
       "14998       14999   73    Male     New York        Cardiology  2022-06-01   \n",
       "14999       15000   26    Male      Chicago       Orthopedics  2022-06-06   \n",
       "\n",
       "          Diagnosis  Treatment_Cost Follow_Up  Satisfaction_Score  \n",
       "0               Flu        13093.75        No                  10  \n",
       "1          Diabetes        11131.79        No                   5  \n",
       "2          Migraine         1822.61        No                   9  \n",
       "3          Migraine        17714.34        No                   5  \n",
       "4      Hypertension        10400.34       Yes                   3  \n",
       "...             ...             ...       ...                 ...  \n",
       "14995      Fracture         9244.55       Yes                   8  \n",
       "14996      Diabetes        16254.03        No                   3  \n",
       "14997      Migraine         5294.03        No                   7  \n",
       "14998      Diabetes        16262.64        No                  10  \n",
       "14999      Migraine         5087.46        No                  10  \n",
       "\n",
       "[15000 rows x 10 columns]"
      ]
     },
     "execution_count": 17,
     "metadata": {},
     "output_type": "execute_result"
    }
   ],
   "source": [
    "df"
   ]
  },
  {
   "cell_type": "code",
   "execution_count": 19,
   "id": "bb2569f8-5000-40a3-bc82-6cefda15a7c4",
   "metadata": {},
   "outputs": [
    {
     "name": "stdout",
     "output_type": "stream",
     "text": [
      "City\n",
      "Houston        3097\n",
      "Los Angeles    3050\n",
      "New York       2972\n",
      "Phoenix        2956\n",
      "Chicago        2925\n",
      "Name: count, dtype: int64\n"
     ]
    }
   ],
   "source": [
    "visits_per_city = df['City'].value_counts()\n",
    "visits_per_city.columns = ['City', 'VisitCount']\n",
    "print(visits_per_city)"
   ]
  },
  {
   "cell_type": "code",
   "execution_count": 20,
   "id": "dd1ef66e-99f4-4273-a4eb-c56db3d48022",
   "metadata": {},
   "outputs": [
    {
     "name": "stdout",
     "output_type": "stream",
     "text": [
      "   Department  Patient_ID\n",
      "0  Cardiology        3015\n"
     ]
    }
   ],
   "source": [
    "depart = df.groupby('Department')['Patient_ID'].count().reset_index()\n",
    "print(depart.head(1))"
   ]
  },
  {
   "cell_type": "code",
   "execution_count": 21,
   "id": "238b1524-d812-41ec-a848-ba199716fe7c",
   "metadata": {},
   "outputs": [
    {
     "name": "stdout",
     "output_type": "stream",
     "text": [
      "City\n",
      "Chicago        10133.403173\n",
      "Houston        10294.951866\n",
      "Los Angeles    10325.138272\n",
      "New York       10288.433193\n",
      "Phoenix        10233.629127\n",
      "Name: Treatment_Cost, dtype: float64\n"
     ]
    }
   ],
   "source": [
    "highcity =df.groupby('City')['Treatment_Cost'].mean()\n",
    "print(highcity.head())"
   ]
  },
  {
   "cell_type": "code",
   "execution_count": 22,
   "id": "653bd97a-c2a2-4c13-9f79-4bc9161f3bbc",
   "metadata": {},
   "outputs": [
    {
     "ename": "NameError",
     "evalue": "name 'conn' is not defined",
     "output_type": "error",
     "traceback": [
      "\u001b[1;31m---------------------------------------------------------------------------\u001b[0m",
      "\u001b[1;31mNameError\u001b[0m                                 Traceback (most recent call last)",
      "Cell \u001b[1;32mIn[22], line 2\u001b[0m\n\u001b[0;32m      1\u001b[0m query \u001b[38;5;241m=\u001b[39m \u001b[38;5;124m\"\u001b[39m\u001b[38;5;124mSELECT * FROM healthcare WHERE satisfactory_score > 8\u001b[39m\u001b[38;5;124m\"\u001b[39m\n\u001b[1;32m----> 2\u001b[0m result_df \u001b[38;5;241m=\u001b[39mpd\u001b[38;5;241m.\u001b[39mread_sql_query(query, conn)\n\u001b[0;32m      3\u001b[0m conn\u001b[38;5;241m.\u001b[39mclose()\n\u001b[0;32m      4\u001b[0m \u001b[38;5;28mprint\u001b[39m(\u001b[38;5;124m\"\u001b[39m\u001b[38;5;124mPatients with satisfactory score > 8:\u001b[39m\u001b[38;5;124m\"\u001b[39m)\n",
      "\u001b[1;31mNameError\u001b[0m: name 'conn' is not defined"
     ]
    }
   ],
   "source": [
    "query = \"SELECT * FROM healthcare WHERE satisfactory_score > 8\"\n",
    "result_df =pd.read_sql_query(query, conn)\n",
    "cpnn.close()\n",
    "print(\"Patients with satisfactory score > 8:\")\n",
    "print(result_df)"
   ]
  },
  {
   "cell_type": "code",
   "execution_count": 23,
   "id": "1f5e27e6-89dd-4489-9b6f-a0c396982bf1",
   "metadata": {},
   "outputs": [
    {
     "data": {
      "text/plain": [
       "Patient_ID              int64\n",
       "Age                     int64\n",
       "Gender                 object\n",
       "City                   object\n",
       "Department             object\n",
       "Visit_Date             object\n",
       "Diagnosis              object\n",
       "Treatment_Cost        float64\n",
       "Follow_Up              object\n",
       "Satisfaction_Score      int64\n",
       "dtype: object"
      ]
     },
     "execution_count": 23,
     "metadata": {},
     "output_type": "execute_result"
    }
   ],
   "source": [
    "df.dtypes"
   ]
  },
  {
   "cell_type": "code",
   "execution_count": 26,
   "id": "66ef3bbb-4a6c-4170-ad0a-73a8f7175439",
   "metadata": {},
   "outputs": [
    {
     "name": "stdout",
     "output_type": "stream",
     "text": [
      "Patients with Satisfactory Score > 8:\n",
      "       Patient_ID  Age  Gender         City        Department  Visit_Date  \\\n",
      "0               1   69  Female      Phoenix  General Medicine  2023-03-04   \n",
      "2               3   89  Female      Houston  General Medicine  2023-07-26   \n",
      "7               8   39  Female  Los Angeles  General Medicine  2023-05-22   \n",
      "11             12   55    Male      Phoenix        Cardiology  2022-05-17   \n",
      "12             13   19    Male      Houston        Cardiology  2023-12-08   \n",
      "...           ...  ...     ...          ...               ...         ...   \n",
      "14990       14991   33    Male      Phoenix        Pediatrics  2023-05-13   \n",
      "14991       14992   24   Other     New York  General Medicine  2022-09-07   \n",
      "14992       14993   25    Male      Phoenix       Orthopedics  2023-08-21   \n",
      "14998       14999   73    Male     New York        Cardiology  2022-06-01   \n",
      "14999       15000   26    Male      Chicago       Orthopedics  2022-06-06   \n",
      "\n",
      "          Diagnosis  Treatment_Cost Follow_Up  Satisfaction_Score  \n",
      "0               Flu        13093.75        No                  10  \n",
      "2          Migraine         1822.61        No                   9  \n",
      "7      Hypertension         2685.76        No                   9  \n",
      "11              Flu         7719.77        No                   9  \n",
      "12         Fracture        17171.80        No                  10  \n",
      "...             ...             ...       ...                 ...  \n",
      "14990      Diabetes        10586.51        No                  10  \n",
      "14991  Hypertension        11914.51        No                  10  \n",
      "14992           Flu          547.58       Yes                   9  \n",
      "14998      Diabetes        16262.64        No                  10  \n",
      "14999      Migraine         5087.46        No                  10  \n",
      "\n",
      "[2996 rows x 10 columns]\n"
     ]
    }
   ],
   "source": [
    "filtered_df = df[df['Satisfaction_Score'] > 8]\n",
    "\n",
    "# Dispalay results\n",
    "\n",
    "print(\"Patients with Satisfactory Score > 8:\")\n",
    "print(filtered_df)"
   ]
  },
  {
   "cell_type": "code",
   "execution_count": 28,
   "id": "05e09a77-203a-45e4-8c3e-db824b7c6909",
   "metadata": {},
   "outputs": [
    {
     "name": "stdout",
     "output_type": "stream",
     "text": [
      "Average cost for Follow up patients: [average_cost]\n"
     ]
    }
   ],
   "source": [
    "# Filters rows where visit_type by 'yes' ('Columns')\n",
    "followup_patients =df[df['Follow_Up'] == 'Yes']\n",
    "\n",
    "# Calculate average rows\n",
    "average_cost = followup_patients['Treatment_Cost'].mean()\n",
    "\n",
    "# Display the results\n",
    "print(f\"Average cost for Follow up patients: [average_cost]\")"
   ]
  },
  {
   "cell_type": "code",
   "execution_count": 29,
   "id": "9a1c4e92-78f3-472a-b080-8bf7e770199e",
   "metadata": {},
   "outputs": [
    {
     "name": "stdout",
     "output_type": "stream",
     "text": [
      "Diagnosis         Diabetes  Flu  Fracture  Hypertension  Migraine\n",
      "Department                                                       \n",
      "Cardiology             657  544       633           586       595\n",
      "General Medicine       576  619       588           615       602\n",
      "Neurology              593  571       591           599       595\n",
      "Orthopedics            622  574       605           609       611\n",
      "Pediatrics             642  575       599           558       641\n"
     ]
    }
   ],
   "source": [
    "pivot = pd.pivot_table(df, index='Department', columns='Diagnosis', aggfunc='size', fill_value=0)\n",
    "\n",
    "# Display result\n",
    "print(pivot)"
   ]
  },
  {
   "cell_type": "code",
   "execution_count": 31,
   "id": "b2bbf021-386e-4b53-9e19-f2381816710c",
   "metadata": {},
   "outputs": [
    {
     "name": "stdout",
     "output_type": "stream",
     "text": [
      "Diagnosis with the highest total treatment cost: (highest_cost_diagnosis) (32151151.21)\n"
     ]
    }
   ],
   "source": [
    "# Group by diagnosis and sum the treatment cost\n",
    "total_cost_by_diagnosis = df.groupby('Diagnosis')['Treatment_Cost'].sum()\n",
    "\n",
    "# Find the diagnosis with the highest total cost\n",
    "highest_cost_diagnosis = total_cost_by_diagnosis.idxmax()\n",
    "highest_cost_value = total_cost_by_diagnosis.max()\n",
    "\n",
    "# Display the result\n",
    "print(f\"Diagnosis with the highest total treatment cost: (highest_cost_diagnosis) ({highest_cost_value})\")"
   ]
  },
  {
   "cell_type": "code",
   "execution_count": 32,
   "id": "9ce4370d-a021-429a-a957-59d3f6e3e876",
   "metadata": {},
   "outputs": [
    {
     "name": "stdout",
     "output_type": "stream",
     "text": [
      "Top 5 Most Expensive Treatments:\n",
      "          Diagnosis  Treatment_Cost\n",
      "11248  Hypertension        19999.84\n",
      "252        Fracture        19997.41\n",
      "4201       Fracture        19997.24\n",
      "11447  Hypertension        19996.02\n",
      "8855       Migraine        19995.21\n"
     ]
    }
   ],
   "source": [
    "# Sort the Dataframe by cost in descending order\n",
    "top_5_expensive_treatments = df.sort_values(by='Treatment_Cost', ascending=False).head(5)\n",
    "\n",
    "# Display the result\n",
    "print(\"Top 5 Most Expensive Treatments:\")\n",
    "print(top_5_expensive_treatments[['Diagnosis', 'Treatment_Cost']])"
   ]
  },
  {
   "cell_type": "code",
   "execution_count": null,
   "id": "3efbf2b5-5972-43c2-b13e-d962416f976f",
   "metadata": {},
   "outputs": [],
   "source": [
    "df['Visit_Date'] =pd.to_datetime(df['Visit_Date'])"
   ]
  },
  {
   "cell_type": "code",
   "execution_count": 33,
   "id": "cf17a4b4-759e-4039-9b04-cd454ea6eae3",
   "metadata": {},
   "outputs": [
    {
     "data": {
      "text/plain": [
       "Index(['Patient_ID', 'Age', 'Gender', 'City', 'Department', 'Visit_Date',\n",
       "       'Diagnosis', 'Treatment_Cost', 'Follow_Up', 'Satisfaction_Score'],\n",
       "      dtype='object')"
      ]
     },
     "execution_count": 33,
     "metadata": {},
     "output_type": "execute_result"
    }
   ],
   "source": [
    "df.columns"
   ]
  },
  {
   "cell_type": "code",
   "execution_count": null,
   "id": "2d92d956-8717-4d95-a795-1cd5f28f479a",
   "metadata": {},
   "outputs": [],
   "source": [
    "df['Year'] = df['Visit_Date'].dt.year"
   ]
  },
  {
   "cell_type": "code",
   "execution_count": 34,
   "id": "7a84e7b7-75ec-4f5c-a31d-3cfd53ca1d5b",
   "metadata": {},
   "outputs": [
    {
     "data": {
      "text/html": [
       "<div>\n",
       "<style scoped>\n",
       "    .dataframe tbody tr th:only-of-type {\n",
       "        vertical-align: middle;\n",
       "    }\n",
       "\n",
       "    .dataframe tbody tr th {\n",
       "        vertical-align: top;\n",
       "    }\n",
       "\n",
       "    .dataframe thead th {\n",
       "        text-align: right;\n",
       "    }\n",
       "</style>\n",
       "<table border=\"1\" class=\"dataframe\">\n",
       "  <thead>\n",
       "    <tr style=\"text-align: right;\">\n",
       "      <th></th>\n",
       "      <th>Patient_ID</th>\n",
       "      <th>Age</th>\n",
       "      <th>Gender</th>\n",
       "      <th>City</th>\n",
       "      <th>Department</th>\n",
       "      <th>Visit_Date</th>\n",
       "      <th>Diagnosis</th>\n",
       "      <th>Treatment_Cost</th>\n",
       "      <th>Follow_Up</th>\n",
       "      <th>Satisfaction_Score</th>\n",
       "    </tr>\n",
       "  </thead>\n",
       "  <tbody>\n",
       "    <tr>\n",
       "      <th>0</th>\n",
       "      <td>1</td>\n",
       "      <td>69</td>\n",
       "      <td>Female</td>\n",
       "      <td>Phoenix</td>\n",
       "      <td>General Medicine</td>\n",
       "      <td>2023-03-04</td>\n",
       "      <td>Flu</td>\n",
       "      <td>13093.75</td>\n",
       "      <td>No</td>\n",
       "      <td>10</td>\n",
       "    </tr>\n",
       "    <tr>\n",
       "      <th>1</th>\n",
       "      <td>2</td>\n",
       "      <td>32</td>\n",
       "      <td>Male</td>\n",
       "      <td>Phoenix</td>\n",
       "      <td>Pediatrics</td>\n",
       "      <td>2021-03-20</td>\n",
       "      <td>Diabetes</td>\n",
       "      <td>11131.79</td>\n",
       "      <td>No</td>\n",
       "      <td>5</td>\n",
       "    </tr>\n",
       "    <tr>\n",
       "      <th>2</th>\n",
       "      <td>3</td>\n",
       "      <td>89</td>\n",
       "      <td>Female</td>\n",
       "      <td>Houston</td>\n",
       "      <td>General Medicine</td>\n",
       "      <td>2023-07-26</td>\n",
       "      <td>Migraine</td>\n",
       "      <td>1822.61</td>\n",
       "      <td>No</td>\n",
       "      <td>9</td>\n",
       "    </tr>\n",
       "    <tr>\n",
       "      <th>3</th>\n",
       "      <td>4</td>\n",
       "      <td>78</td>\n",
       "      <td>Female</td>\n",
       "      <td>Houston</td>\n",
       "      <td>Cardiology</td>\n",
       "      <td>2022-12-08</td>\n",
       "      <td>Migraine</td>\n",
       "      <td>17714.34</td>\n",
       "      <td>No</td>\n",
       "      <td>5</td>\n",
       "    </tr>\n",
       "    <tr>\n",
       "      <th>4</th>\n",
       "      <td>5</td>\n",
       "      <td>38</td>\n",
       "      <td>Female</td>\n",
       "      <td>Los Angeles</td>\n",
       "      <td>Pediatrics</td>\n",
       "      <td>2021-10-16</td>\n",
       "      <td>Hypertension</td>\n",
       "      <td>10400.34</td>\n",
       "      <td>Yes</td>\n",
       "      <td>3</td>\n",
       "    </tr>\n",
       "  </tbody>\n",
       "</table>\n",
       "</div>"
      ],
      "text/plain": [
       "   Patient_ID  Age  Gender         City        Department  Visit_Date  \\\n",
       "0           1   69  Female      Phoenix  General Medicine  2023-03-04   \n",
       "1           2   32    Male      Phoenix        Pediatrics  2021-03-20   \n",
       "2           3   89  Female      Houston  General Medicine  2023-07-26   \n",
       "3           4   78  Female      Houston        Cardiology  2022-12-08   \n",
       "4           5   38  Female  Los Angeles        Pediatrics  2021-10-16   \n",
       "\n",
       "      Diagnosis  Treatment_Cost Follow_Up  Satisfaction_Score  \n",
       "0           Flu        13093.75        No                  10  \n",
       "1      Diabetes        11131.79        No                   5  \n",
       "2      Migraine         1822.61        No                   9  \n",
       "3      Migraine        17714.34        No                   5  \n",
       "4  Hypertension        10400.34       Yes                   3  "
      ]
     },
     "execution_count": 34,
     "metadata": {},
     "output_type": "execute_result"
    }
   ],
   "source": [
    "df.head(5)"
   ]
  },
  {
   "cell_type": "code",
   "execution_count": null,
   "id": "12271c47-1d9c-4b8c-a81a-b9f02de5b84e",
   "metadata": {},
   "outputs": [],
   "source": [
    "# Number of vists per Year"
   ]
  },
  {
   "cell_type": "code",
   "execution_count": 38,
   "id": "366fe05a-ee4a-463f-aa6a-e0e03efa854b",
   "metadata": {},
   "outputs": [
    {
     "data": {
      "text/html": [
       "<div>\n",
       "<style scoped>\n",
       "    .dataframe tbody tr th:only-of-type {\n",
       "        vertical-align: middle;\n",
       "    }\n",
       "\n",
       "    .dataframe tbody tr th {\n",
       "        vertical-align: top;\n",
       "    }\n",
       "\n",
       "    .dataframe thead th {\n",
       "        text-align: right;\n",
       "    }\n",
       "</style>\n",
       "<table border=\"1\" class=\"dataframe\">\n",
       "  <thead>\n",
       "    <tr style=\"text-align: right;\">\n",
       "      <th></th>\n",
       "      <th>Visit_Date</th>\n",
       "      <th>Visit_Count</th>\n",
       "    </tr>\n",
       "  </thead>\n",
       "  <tbody>\n",
       "    <tr>\n",
       "      <th>0</th>\n",
       "      <td>2021-01-01</td>\n",
       "      <td>11</td>\n",
       "    </tr>\n",
       "    <tr>\n",
       "      <th>1</th>\n",
       "      <td>2021-01-02</td>\n",
       "      <td>22</td>\n",
       "    </tr>\n",
       "    <tr>\n",
       "      <th>2</th>\n",
       "      <td>2021-01-03</td>\n",
       "      <td>16</td>\n",
       "    </tr>\n",
       "    <tr>\n",
       "      <th>3</th>\n",
       "      <td>2021-01-04</td>\n",
       "      <td>20</td>\n",
       "    </tr>\n",
       "    <tr>\n",
       "      <th>4</th>\n",
       "      <td>2021-01-05</td>\n",
       "      <td>16</td>\n",
       "    </tr>\n",
       "    <tr>\n",
       "      <th>...</th>\n",
       "      <td>...</td>\n",
       "      <td>...</td>\n",
       "    </tr>\n",
       "    <tr>\n",
       "      <th>1090</th>\n",
       "      <td>2023-12-27</td>\n",
       "      <td>9</td>\n",
       "    </tr>\n",
       "    <tr>\n",
       "      <th>1091</th>\n",
       "      <td>2023-12-28</td>\n",
       "      <td>14</td>\n",
       "    </tr>\n",
       "    <tr>\n",
       "      <th>1092</th>\n",
       "      <td>2023-12-29</td>\n",
       "      <td>16</td>\n",
       "    </tr>\n",
       "    <tr>\n",
       "      <th>1093</th>\n",
       "      <td>2023-12-30</td>\n",
       "      <td>13</td>\n",
       "    </tr>\n",
       "    <tr>\n",
       "      <th>1094</th>\n",
       "      <td>2023-12-31</td>\n",
       "      <td>18</td>\n",
       "    </tr>\n",
       "  </tbody>\n",
       "</table>\n",
       "<p>1095 rows × 2 columns</p>\n",
       "</div>"
      ],
      "text/plain": [
       "      Visit_Date  Visit_Count\n",
       "0     2021-01-01           11\n",
       "1     2021-01-02           22\n",
       "2     2021-01-03           16\n",
       "3     2021-01-04           20\n",
       "4     2021-01-05           16\n",
       "...          ...          ...\n",
       "1090  2023-12-27            9\n",
       "1091  2023-12-28           14\n",
       "1092  2023-12-29           16\n",
       "1093  2023-12-30           13\n",
       "1094  2023-12-31           18\n",
       "\n",
       "[1095 rows x 2 columns]"
      ]
     },
     "execution_count": 38,
     "metadata": {},
     "output_type": "execute_result"
    }
   ],
   "source": [
    "visits_per_year = df['Visit_Date'].value_counts().sort_index().reset_index()\n",
    "visits_per_year.columns = ['Visit_Date', 'Visit_Count']\n",
    "visits_per_year"
   ]
  },
  {
   "cell_type": "code",
   "execution_count": null,
   "id": "2ad59d99-eabe-4528-99b4-a75d375ed66e",
   "metadata": {},
   "outputs": [],
   "source": [
    "# Median Treatment Cost by Gender an Diagnosis"
   ]
  },
  {
   "cell_type": "code",
   "execution_count": 39,
   "id": "77cd56bd-5947-4860-9884-ff67ba020718",
   "metadata": {},
   "outputs": [
    {
     "data": {
      "text/html": [
       "<div>\n",
       "<style scoped>\n",
       "    .dataframe tbody tr th:only-of-type {\n",
       "        vertical-align: middle;\n",
       "    }\n",
       "\n",
       "    .dataframe tbody tr th {\n",
       "        vertical-align: top;\n",
       "    }\n",
       "\n",
       "    .dataframe thead th {\n",
       "        text-align: right;\n",
       "    }\n",
       "</style>\n",
       "<table border=\"1\" class=\"dataframe\">\n",
       "  <thead>\n",
       "    <tr style=\"text-align: right;\">\n",
       "      <th></th>\n",
       "      <th>Gender</th>\n",
       "      <th>Diagnosis</th>\n",
       "      <th>Median_Treatment_Cost</th>\n",
       "    </tr>\n",
       "  </thead>\n",
       "  <tbody>\n",
       "    <tr>\n",
       "      <th>0</th>\n",
       "      <td>Female</td>\n",
       "      <td>Diabetes</td>\n",
       "      <td>10464.96</td>\n",
       "    </tr>\n",
       "    <tr>\n",
       "      <th>1</th>\n",
       "      <td>Female</td>\n",
       "      <td>Flu</td>\n",
       "      <td>10242.07</td>\n",
       "    </tr>\n",
       "    <tr>\n",
       "      <th>2</th>\n",
       "      <td>Female</td>\n",
       "      <td>Fracture</td>\n",
       "      <td>10158.67</td>\n",
       "    </tr>\n",
       "    <tr>\n",
       "      <th>3</th>\n",
       "      <td>Female</td>\n",
       "      <td>Hypertension</td>\n",
       "      <td>10477.50</td>\n",
       "    </tr>\n",
       "    <tr>\n",
       "      <th>4</th>\n",
       "      <td>Female</td>\n",
       "      <td>Migraine</td>\n",
       "      <td>10615.41</td>\n",
       "    </tr>\n",
       "  </tbody>\n",
       "</table>\n",
       "</div>"
      ],
      "text/plain": [
       "   Gender     Diagnosis  Median_Treatment_Cost\n",
       "0  Female      Diabetes               10464.96\n",
       "1  Female           Flu               10242.07\n",
       "2  Female      Fracture               10158.67\n",
       "3  Female  Hypertension               10477.50\n",
       "4  Female      Migraine               10615.41"
      ]
     },
     "execution_count": 39,
     "metadata": {},
     "output_type": "execute_result"
    }
   ],
   "source": [
    "median_cost = df.groupby(['Gender', 'Diagnosis'])['Treatment_Cost'].median().reset_index(name='Median_Treatment_Cost')\n",
    "median_cost.head(5)"
   ]
  },
  {
   "cell_type": "code",
   "execution_count": null,
   "id": "b5df69f5-63d6-4154-8693-6e6b07af9e63",
   "metadata": {},
   "outputs": [],
   "source": [
    "# Add a column where cost > 10000 is \"High\", else \"Low\""
   ]
  },
  {
   "cell_type": "code",
   "execution_count": 40,
   "id": "244c6a37-276f-4c46-b164-bf407ea276b2",
   "metadata": {},
   "outputs": [
    {
     "data": {
      "text/html": [
       "<div>\n",
       "<style scoped>\n",
       "    .dataframe tbody tr th:only-of-type {\n",
       "        vertical-align: middle;\n",
       "    }\n",
       "\n",
       "    .dataframe tbody tr th {\n",
       "        vertical-align: top;\n",
       "    }\n",
       "\n",
       "    .dataframe thead th {\n",
       "        text-align: right;\n",
       "    }\n",
       "</style>\n",
       "<table border=\"1\" class=\"dataframe\">\n",
       "  <thead>\n",
       "    <tr style=\"text-align: right;\">\n",
       "      <th></th>\n",
       "      <th>Treatment_Cost</th>\n",
       "      <th>Cost_Level</th>\n",
       "    </tr>\n",
       "  </thead>\n",
       "  <tbody>\n",
       "    <tr>\n",
       "      <th>0</th>\n",
       "      <td>13093.75</td>\n",
       "      <td>High</td>\n",
       "    </tr>\n",
       "    <tr>\n",
       "      <th>1</th>\n",
       "      <td>11131.79</td>\n",
       "      <td>High</td>\n",
       "    </tr>\n",
       "    <tr>\n",
       "      <th>2</th>\n",
       "      <td>1822.61</td>\n",
       "      <td>low</td>\n",
       "    </tr>\n",
       "    <tr>\n",
       "      <th>3</th>\n",
       "      <td>17714.34</td>\n",
       "      <td>High</td>\n",
       "    </tr>\n",
       "    <tr>\n",
       "      <th>4</th>\n",
       "      <td>10400.34</td>\n",
       "      <td>High</td>\n",
       "    </tr>\n",
       "  </tbody>\n",
       "</table>\n",
       "</div>"
      ],
      "text/plain": [
       "   Treatment_Cost Cost_Level\n",
       "0        13093.75       High\n",
       "1        11131.79       High\n",
       "2         1822.61        low\n",
       "3        17714.34       High\n",
       "4        10400.34       High"
      ]
     },
     "execution_count": 40,
     "metadata": {},
     "output_type": "execute_result"
    }
   ],
   "source": [
    "df['Cost_Level'] = df['Treatment_Cost'].apply(lambda x: 'High' if x > 10000 else 'low')\n",
    "df[['Treatment_Cost', 'Cost_Level']].head()"
   ]
  },
  {
   "cell_type": "code",
   "execution_count": null,
   "id": "dbb1c35a-0d76-4930-80fa-fbf96787a1b9",
   "metadata": {},
   "outputs": [],
   "source": [
    "# What Percentage of Patients are from \"Cardiology\"?"
   ]
  },
  {
   "cell_type": "code",
   "execution_count": 41,
   "id": "1b881034-764a-48d1-a059-48f6afa9a573",
   "metadata": {},
   "outputs": [
    {
     "data": {
      "text/plain": [
       "20.1"
      ]
     },
     "execution_count": 41,
     "metadata": {},
     "output_type": "execute_result"
    }
   ],
   "source": [
    "cardiology_count = df[df['Department'] == 'Cardiology'].shape[0]\n",
    "total_patients = df.shape[0]\n",
    "percentage_cardiology = (cardiology_count / total_patients) * 100\n",
    "percentage_cardiology"
   ]
  },
  {
   "cell_type": "code",
   "execution_count": null,
   "id": "3d32c3bc-fc3a-4da7-aadc-6605aa5a1500",
   "metadata": {},
   "outputs": [],
   "source": [
    "# Top 3 Departments with the lowest Satisfaction Scores"
   ]
  },
  {
   "cell_type": "code",
   "execution_count": 43,
   "id": "8d0d3841-935b-44ee-be4d-ec70a6849a9c",
   "metadata": {},
   "outputs": [
    {
     "data": {
      "text/html": [
       "<div>\n",
       "<style scoped>\n",
       "    .dataframe tbody tr th:only-of-type {\n",
       "        vertical-align: middle;\n",
       "    }\n",
       "\n",
       "    .dataframe tbody tr th {\n",
       "        vertical-align: top;\n",
       "    }\n",
       "\n",
       "    .dataframe thead th {\n",
       "        text-align: right;\n",
       "    }\n",
       "</style>\n",
       "<table border=\"1\" class=\"dataframe\">\n",
       "  <thead>\n",
       "    <tr style=\"text-align: right;\">\n",
       "      <th></th>\n",
       "      <th>Department</th>\n",
       "      <th>Avg_Satisfaction_Score</th>\n",
       "    </tr>\n",
       "  </thead>\n",
       "  <tbody>\n",
       "    <tr>\n",
       "      <th>3</th>\n",
       "      <td>Orthopedics</td>\n",
       "      <td>5.412115</td>\n",
       "    </tr>\n",
       "    <tr>\n",
       "      <th>1</th>\n",
       "      <td>General Medicine</td>\n",
       "      <td>5.443667</td>\n",
       "    </tr>\n",
       "    <tr>\n",
       "      <th>0</th>\n",
       "      <td>Cardiology</td>\n",
       "      <td>5.511774</td>\n",
       "    </tr>\n",
       "  </tbody>\n",
       "</table>\n",
       "</div>"
      ],
      "text/plain": [
       "         Department  Avg_Satisfaction_Score\n",
       "3       Orthopedics                5.412115\n",
       "1  General Medicine                5.443667\n",
       "0        Cardiology                5.511774"
      ]
     },
     "execution_count": 43,
     "metadata": {},
     "output_type": "execute_result"
    }
   ],
   "source": [
    "lowest_satisfaction = (\n",
    "    df.groupby('Department')['Satisfaction_Score']\n",
    "    .mean()\n",
    "    .reset_index(name='Avg_Satisfaction_Score')\n",
    "    .sort_values(by='Avg_Satisfaction_Score')\n",
    "    .head(3)\n",
    ")\n",
    "lowest_satisfaction"
   ]
  },
  {
   "cell_type": "code",
   "execution_count": null,
   "id": "34d6c64b-cae5-4a0c-8e90-eb19d084d439",
   "metadata": {},
   "outputs": [],
   "source": [
    "# Age Group (by Decades) with the Highest Number of Vists"
   ]
  },
  {
   "cell_type": "code",
   "execution_count": 44,
   "id": "3ba93db8-2eb1-4b2a-93fd-2dbf7ec9d75a",
   "metadata": {},
   "outputs": [
    {
     "data": {
      "text/plain": [
       "Age_Group       13s\n",
       "Visit_Count    2229\n",
       "Name: 0, dtype: object"
      ]
     },
     "execution_count": 44,
     "metadata": {},
     "output_type": "execute_result"
    }
   ],
   "source": [
    "df['Age_Group'] = (df['Age'] // 10) + 10\n",
    "df['Age_Group'] =df['Age_Group'].astype(str) + 's'\n",
    "\n",
    "age_group_counts = df['Age_Group'].value_counts().reset_index()\n",
    "age_group_counts.columns = ['Age_Group', 'Visit_Count']\n",
    "top_age_group = age_group_counts.sort_values(by='Visit_Count', ascending=False).iloc[0]\n",
    "top_age_group"
   ]
  },
  {
   "cell_type": "code",
   "execution_count": null,
   "id": "9ece1abb-ccf9-439e-9af2-630c4696850c",
   "metadata": {},
   "outputs": [],
   "source": [
    "# Gender with the highest average satisfaction score"
   ]
  },
  {
   "cell_type": "code",
   "execution_count": 45,
   "id": "6f99211b-cfd1-4f45-97b0-fc47dcb5001f",
   "metadata": {},
   "outputs": [
    {
     "data": {
      "text/plain": [
       "Gender                        Male\n",
       "Avg_Satisfaction_Score    5.506547\n",
       "Name: 1, dtype: object"
      ]
     },
     "execution_count": 45,
     "metadata": {},
     "output_type": "execute_result"
    }
   ],
   "source": [
    "gender_satisfaction =(\n",
    "\n",
    "   df.groupby('Gender')['Satisfaction_Score'].mean()\n",
    "    .reset_index(name='Avg_Satisfaction_Score')\n",
    "    .sort_values(by='Avg_Satisfaction_Score',ascending=False)\n",
    ")\n",
    "top_gender = gender_satisfaction.iloc[0]\n",
    "top_gender"
   ]
  },
  {
   "cell_type": "code",
   "execution_count": null,
   "id": "a1fcecec-021f-440f-8871-5554ef5bc078",
   "metadata": {},
   "outputs": [],
   "source": [
    "# Pivot - Average Cost by Gender and Department"
   ]
  },
  {
   "cell_type": "code",
   "execution_count": 48,
   "id": "a38b64ac-6463-410b-bd27-28ae4795fa73",
   "metadata": {},
   "outputs": [
    {
     "data": {
      "text/html": [
       "<div>\n",
       "<style scoped>\n",
       "    .dataframe tbody tr th:only-of-type {\n",
       "        vertical-align: middle;\n",
       "    }\n",
       "\n",
       "    .dataframe tbody tr th {\n",
       "        vertical-align: top;\n",
       "    }\n",
       "\n",
       "    .dataframe thead th {\n",
       "        text-align: right;\n",
       "    }\n",
       "</style>\n",
       "<table border=\"1\" class=\"dataframe\">\n",
       "  <thead>\n",
       "    <tr style=\"text-align: right;\">\n",
       "      <th>Department</th>\n",
       "      <th>Cardiology</th>\n",
       "      <th>General Medicine</th>\n",
       "      <th>Neurology</th>\n",
       "      <th>Orthopedics</th>\n",
       "      <th>Pediatrics</th>\n",
       "    </tr>\n",
       "    <tr>\n",
       "      <th>Gender</th>\n",
       "      <th></th>\n",
       "      <th></th>\n",
       "      <th></th>\n",
       "      <th></th>\n",
       "      <th></th>\n",
       "    </tr>\n",
       "  </thead>\n",
       "  <tbody>\n",
       "    <tr>\n",
       "      <th>Female</th>\n",
       "      <td>10455.942325</td>\n",
       "      <td>10101.144731</td>\n",
       "      <td>10464.189068</td>\n",
       "      <td>10198.771046</td>\n",
       "      <td>10362.229205</td>\n",
       "    </tr>\n",
       "    <tr>\n",
       "      <th>Male</th>\n",
       "      <td>10308.397685</td>\n",
       "      <td>10276.816094</td>\n",
       "      <td>10107.227871</td>\n",
       "      <td>10048.126134</td>\n",
       "      <td>10137.188838</td>\n",
       "    </tr>\n",
       "    <tr>\n",
       "      <th>Other</th>\n",
       "      <td>10776.153577</td>\n",
       "      <td>10299.166861</td>\n",
       "      <td>10179.669313</td>\n",
       "      <td>10740.771488</td>\n",
       "      <td>10290.507333</td>\n",
       "    </tr>\n",
       "  </tbody>\n",
       "</table>\n",
       "</div>"
      ],
      "text/plain": [
       "Department    Cardiology  General Medicine     Neurology   Orthopedics  \\\n",
       "Gender                                                                   \n",
       "Female      10455.942325      10101.144731  10464.189068  10198.771046   \n",
       "Male        10308.397685      10276.816094  10107.227871  10048.126134   \n",
       "Other       10776.153577      10299.166861  10179.669313  10740.771488   \n",
       "\n",
       "Department    Pediatrics  \n",
       "Gender                    \n",
       "Female      10362.229205  \n",
       "Male        10137.188838  \n",
       "Other       10290.507333  "
      ]
     },
     "execution_count": 48,
     "metadata": {},
     "output_type": "execute_result"
    }
   ],
   "source": [
    "pivot = df.pivot_table(\n",
    "    index='Gender',\n",
    "    columns='Department',\n",
    "    values='Treatment_Cost',\n",
    "    aggfunc='mean',\n",
    "    fill_value=0\n",
    ")\n",
    "\n",
    "pivot"
   ]
  },
  {
   "cell_type": "code",
   "execution_count": null,
   "id": "482dbfba-ca97-475c-b490-f02695bd8958",
   "metadata": {},
   "outputs": [],
   "source": []
  },
  {
   "cell_type": "code",
   "execution_count": null,
   "id": "7e4b43dd-96fd-42a9-b291-9e2540f127b3",
   "metadata": {},
   "outputs": [],
   "source": []
  }
 ],
 "metadata": {
  "kernelspec": {
   "display_name": "Python 3 (ipykernel)",
   "language": "python",
   "name": "python3"
  },
  "language_info": {
   "codemirror_mode": {
    "name": "ipython",
    "version": 3
   },
   "file_extension": ".py",
   "mimetype": "text/x-python",
   "name": "python",
   "nbconvert_exporter": "python",
   "pygments_lexer": "ipython3",
   "version": "3.12.7"
  }
 },
 "nbformat": 4,
 "nbformat_minor": 5
}
